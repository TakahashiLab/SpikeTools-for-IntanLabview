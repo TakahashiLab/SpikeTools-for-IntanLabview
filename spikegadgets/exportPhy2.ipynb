{
 "cells": [
  {
   "cell_type": "code",
   "execution_count": 10,
   "id": "b340f043",
   "metadata": {},
   "outputs": [],
   "source": [
    "%matplotlib inline\n",
    "import spikeinterface.full as si\n",
    "import spikeinterface.extractors as se\n",
    "# import numpy as np\n",
    "# import matplotlib.pyplot as plt\n",
    "from pathlib import Path\n"
   ]
  },
  {
   "cell_type": "code",
   "execution_count": 151,
   "id": "78c1e645",
   "metadata": {},
   "outputs": [
    {
     "name": "stdout",
     "output_type": "stream",
     "text": [
      "O:\\seaturtle\\2023\\combine\\gamma\\20230821-2\\20230821_164906.kilosort\\stFolder\\kilosort4\n",
      "O:\\seaturtle\\2023\\combine\\gamma\\20230821-2\\20230821_164906.kilosort\\stFolder\n"
     ]
    }
   ],
   "source": [
    "def construct_sg_file(base_folder):\n",
    "    base_folder = Path(base_folder)\n",
    "    # Correctly append only the probe file to the directory without repeating the base folder name\n",
    "    folder_path = base_folder / f'kilosort4'\n",
    "    return folder_path\n",
    "\n",
    "#kilosort4の出力があるフォルダを指定する\n",
    "# base_folder = r'O:\\seaturtle\\2023\\combine\\alpha\\20230819\\20230819_164611.kilosort\\stFolder'\n",
    "# base_folder = r'O:\\seaturtle\\2023\\combine\\beta\\20230820\\20230820_151453.kilosort\\stFolder'\n",
    "base_folder = r'O:\\seaturtle\\2023\\combine\\gamma\\20230821-2\\20230821_164906.kilosort\\stFolder'\n",
    "\n",
    "folder_path = construct_sg_file(base_folder)\n",
    "print(folder_path)\n",
    "print(base_folder)"
   ]
  },
  {
   "cell_type": "code",
   "execution_count": 152,
   "id": "1b331b98",
   "metadata": {},
   "outputs": [],
   "source": [
    "# phy_file\n",
    "#kilosort4の結果を読み取る\n",
    "# sorting=se.read_phy(folder_path)\n",
    "\n",
    "#noise,goodなどをphyで設定済みならば、こちらをつかう\n",
    "# sorting=se.read_phy(folder_path, exclude_cluster_groups=['noise'])\n",
    "sorting = se.read_phy(folder_path  / 'mPhy', exclude_cluster_groups=['noise'])"
   ]
  },
  {
   "cell_type": "code",
   "execution_count": 153,
   "id": "2ea84e98",
   "metadata": {},
   "outputs": [],
   "source": [
    "#base_folderには、traces_cached_seg0.rawファイルがあると仮定する\n",
    "#spikeinterfaceでshift補正したデータ読み取り\n",
    "rec2 = si.load_extractor(base_folder)"
   ]
  },
  {
   "cell_type": "code",
   "execution_count": 154,
   "id": "ec2fda2f",
   "metadata": {},
   "outputs": [],
   "source": [
    "#ecephys_piplelineのpost_processingの代わり\n",
    "rec2.annotate(is_filtered=True)\n",
    "# sorting2=si.remove_duplicated_spikes(sorting,censored_period_ms=0.4,method='keep_first')\n",
    "sorting2=si.remove_duplicated_spikes(sorting,censored_period_ms=1.4,method='keep_first')"
   ]
  },
  {
   "cell_type": "code",
   "execution_count": 155,
   "id": "e1e3504c",
   "metadata": {},
   "outputs": [
    {
     "data": {
      "application/vnd.jupyter.widget-view+json": {
       "model_id": "22f3433d56a74bcd8e630f11cf97be6d",
       "version_major": 2,
       "version_minor": 0
      },
      "text/plain": [
       "extract waveforms shared_memory multi buffer:   0%|          | 0/5006 [00:00<?, ?it/s]"
      ]
     },
     "metadata": {},
     "output_type": "display_data"
    },
    {
     "data": {
      "application/vnd.jupyter.widget-view+json": {
       "model_id": "ba3d0591bd1d44febdbaa03014f39e79",
       "version_major": 2,
       "version_minor": 0
      },
      "text/plain": [
       "extract waveforms memmap multi buffer:   0%|          | 0/5006 [00:00<?, ?it/s]"
      ]
     },
     "metadata": {},
     "output_type": "display_data"
    }
   ],
   "source": [
    "#初回はwaveformデータを保存する。\n",
    "#If you want to create and save waveform, then do the following code \n",
    "# sparsity_dict = sparsity_dict=dict(method=\"best_channels\", num_channels=8)\n",
    "job_kwargs = dict(n_jobs=10, chunk_duration='1s', progress_bar=True)\n",
    "we = si.extract_waveforms(rec2, sorting2, folder=folder_path / 'waveforms_kilosort4-2',\n",
    "                          sparse=True, max_spikes_per_unit=500, ms_before=1.5,ms_after=2.,\n",
    "                          **job_kwargs)\n",
    "\n",
    "#もしもwaveforms_kilosort4を一度作っているのならば、こちらを実行  \n",
    "# we = si.load_waveforms(folder=folder_path / 'waveforms_kilosort4')"
   ]
  },
  {
   "cell_type": "code",
   "execution_count": 156,
   "id": "72b18707",
   "metadata": {},
   "outputs": [
    {
     "data": {
      "application/vnd.jupyter.widget-view+json": {
       "model_id": "e2f78458a5204edf81e92cfec328e191",
       "version_major": 2,
       "version_minor": 0
      },
      "text/plain": [
       "Fitting PCA:   0%|          | 0/71 [00:00<?, ?it/s]"
      ]
     },
     "metadata": {},
     "output_type": "display_data"
    },
    {
     "data": {
      "application/vnd.jupyter.widget-view+json": {
       "model_id": "4abd95849ea44756b21e7063d0518728",
       "version_major": 2,
       "version_minor": 0
      },
      "text/plain": [
       "Projecting waveforms:   0%|          | 0/71 [00:00<?, ?it/s]"
      ]
     },
     "metadata": {},
     "output_type": "display_data"
    },
    {
     "data": {
      "text/plain": [
       "['principal_components']"
      ]
     },
     "execution_count": 156,
     "metadata": {},
     "output_type": "execute_result"
    }
   ],
   "source": [
    "#主成分分析　特徴量\n",
    "pc = si.compute_principal_components(we, n_components=3, load_if_exists=True, **job_kwargs)\n",
    "we.get_available_extension_names()"
   ]
  },
  {
   "cell_type": "code",
   "execution_count": 157,
   "id": "2eeafd45",
   "metadata": {},
   "outputs": [
    {
     "data": {
      "application/vnd.jupyter.widget-view+json": {
       "model_id": "9148b5b63e9c4180bffd39c9d6b47f3d",
       "version_major": 2,
       "version_minor": 0
      },
      "text/plain": [
       "Computing PCA metrics:   0%|          | 0/71 [00:00<?, ?it/s]"
      ]
     },
     "metadata": {},
     "output_type": "display_data"
    }
   ],
   "source": [
    "#quality metricsを計算\n",
    "# _ = si.compute_spike_amplitudes(waveform_extractor=we)\n",
    "_ = si.compute_correlograms(sorting2)\n",
    "_ = si.compute_template_similarity(waveform_extractor=we)\n",
    "_ = si.compute_quality_metrics(waveform_extractor=we, metric_names=['snr', 'isi_violation', 'isolation_distance','d_prime','l_ratio'])"
   ]
  },
  {
   "cell_type": "code",
   "execution_count": 158,
   "id": "1a5200d5",
   "metadata": {},
   "outputs": [
    {
     "data": {
      "application/vnd.jupyter.widget-view+json": {
       "model_id": "463c029a464a428a80e111ef6f08818f",
       "version_major": 2,
       "version_minor": 0
      },
      "text/plain": [
       "extract PCs:   0%|          | 0/5006 [00:00<?, ?it/s]"
      ]
     },
     "metadata": {},
     "output_type": "display_data"
    },
    {
     "name": "stdout",
     "output_type": "stream",
     "text": [
      "Run:\n",
      "phy template-gui  O:\\seaturtle\\2023\\combine\\gamma\\20230821-2\\20230821_164906.kilosort\\stFolder\\kilosort4\\mPhy2\\params.py\n"
     ]
    }
   ],
   "source": [
    "#phy形式で結果を書き込む、pc_featuresをTrueにしておくと、phy上でfeature viewが使える\n",
    "si.export_to_phy(waveform_extractor=we, output_folder= folder_path/'mPhy2',\n",
    "                 compute_amplitudes=False, compute_pc_features=True, copy_binary=False,\n",
    "                 **job_kwargs)\n",
    "\n",
    "# si.export_to_phy(waveform_extractor=we, output_folder= folder_path/'mPhy2')"
   ]
  }
 ],
 "metadata": {
  "kernelspec": {
   "display_name": "si_env",
   "language": "python",
   "name": "python3"
  },
  "language_info": {
   "codemirror_mode": {
    "name": "ipython",
    "version": 3
   },
   "file_extension": ".py",
   "mimetype": "text/x-python",
   "name": "python",
   "nbconvert_exporter": "python",
   "pygments_lexer": "ipython3",
   "version": "3.9.16"
  }
 },
 "nbformat": 4,
 "nbformat_minor": 5
}
